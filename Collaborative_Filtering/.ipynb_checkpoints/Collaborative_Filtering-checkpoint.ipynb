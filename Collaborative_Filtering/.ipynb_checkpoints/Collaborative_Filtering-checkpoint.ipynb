{
 "cells": [
  {
   "cell_type": "markdown",
   "metadata": {
    "collapsed": true
   },
   "source": [
    "# User-based Collaborative Filtering"
   ]
  },
  {
   "cell_type": "markdown",
   "metadata": {},
   "source": [
    "## Example of dataset"
   ]
  },
  {
   "cell_type": "code",
   "execution_count": 1,
   "metadata": {
    "collapsed": true
   },
   "outputs": [],
   "source": [
    "# A dictionary of movie critics and their ratings of a small\n",
    "# set of movies\n",
    "critics={'Lisa Rose': {'Lady in the Water': 2.5, 'Snakes on a Plane': 3.5,\n",
    " 'Just My Luck': 3.0, 'Superman Returns': 3.5, 'You, Me and Dupree': 2.5, \n",
    " 'The Night Listener': 3.0},\n",
    "'Gene Seymour': {'Lady in the Water': 3.0, 'Snakes on a Plane': 3.5, \n",
    " 'Just My Luck': 1.5, 'Superman Returns': 5.0, 'The Night Listener': 3.0, \n",
    " 'You, Me and Dupree': 3.5}, \n",
    "'Michael Phillips': {'Lady in the Water': 2.5, 'Snakes on a Plane': 3.0,\n",
    " 'Superman Returns': 3.5, 'The Night Listener': 4.0},\n",
    "'Claudia Puig': {'Snakes on a Plane': 3.5, 'Just My Luck': 3.0,\n",
    " 'The Night Listener': 4.5, 'Superman Returns': 4.0, \n",
    " 'You, Me and Dupree': 2.5},\n",
    "'Mick LaSalle': {'Lady in the Water': 3.0, 'Snakes on a Plane': 4.0, \n",
    " 'Just My Luck': 2.0, 'Superman Returns': 3.0, 'The Night Listener': 3.0,\n",
    " 'You, Me and Dupree': 2.0}, \n",
    "'Jack Matthews': {'Lady in the Water': 3.0, 'Snakes on a Plane': 4.0,\n",
    " 'The Night Listener': 3.0, 'Superman Returns': 5.0, 'You, Me and Dupree': 3.5},\n",
    "'Toby': {'Snakes on a Plane':4.5,'You, Me and Dupree':1.0,'Superman Returns':4.0}}"
   ]
  },
  {
   "cell_type": "markdown",
   "metadata": {},
   "source": [
    "## Define a similarity score"
   ]
  },
  {
   "cell_type": "code",
   "execution_count": 2,
   "metadata": {
    "collapsed": true
   },
   "outputs": [],
   "source": [
    "from math import sqrt"
   ]
  },
  {
   "cell_type": "markdown",
   "metadata": {},
   "source": [
    "A simple euclidian distance measure of shared reviewd movies"
   ]
  },
  {
   "cell_type": "code",
   "execution_count": 3,
   "metadata": {
    "collapsed": true
   },
   "outputs": [],
   "source": [
    "def euclidian_distance(prefs, person1, person2):\n",
    "    si = {}\n",
    "    \n",
    "    for item in prefs[person1]:\n",
    "        if item in prefs[person2]:\n",
    "            si[item] = 1\n",
    "            \n",
    "    # If no ratings in common return 0\n",
    "    if len(si) == 0: return 0\n",
    "    \n",
    "    sq_sum = sum([pow(prefs[person1][item]-prefs[person2][item],2) for item in si])\n",
    "    \n",
    "    return 1/(1+sqrt(sq_sum))"
   ]
  },
  {
   "cell_type": "code",
   "execution_count": 4,
   "metadata": {},
   "outputs": [
    {
     "data": {
      "text/plain": [
       "0.29429805508554946"
      ]
     },
     "execution_count": 4,
     "metadata": {},
     "output_type": "execute_result"
    }
   ],
   "source": [
    "euclidian_distance(critics,'Lisa Rose', 'Gene Seymour')"
   ]
  },
  {
   "cell_type": "markdown",
   "metadata": {},
   "source": [
    "A Pearson Correlation Score, suitable for when data isn't well normalized, also corrects for grade inflation in which certain users tends to give systematically higher or lower grades."
   ]
  },
  {
   "cell_type": "markdown",
   "metadata": {},
   "source": [
    " $ \\rho_{X,Y} = \\frac{\\text{cov}(X,Y)}{\\sigma_X\\sigma_Y} = \\frac{E[(X-\\mu_X)(Y-\\mu_Y)]}{\\sigma_X\\sigma_Y} \\approx \\frac{\\sum_{i=0}^n (x_i-\\bar{x})(y_i-\\bar{y})}{\\sqrt{\\sum_{i=0}^n (x_i-\\bar{x})^2}\\sqrt{\\sum_{i=0}^n (y_i-\\bar{y})^2}}$"
   ]
  },
  {
   "cell_type": "code",
   "execution_count": 5,
   "metadata": {
    "collapsed": true
   },
   "outputs": [],
   "source": [
    "def pearson_correlation(prefs,person1,person2):\n",
    "    si = {}\n",
    "    \n",
    "    for item in prefs[person1]:\n",
    "        if item in prefs[person2]:\n",
    "            si[item] = 1\n",
    "\n",
    "    if len(si) == 0 : return 0\n",
    "    \n",
    "    mean1 = sum([prefs[person1][item] for item in si]) /len(si)\n",
    "    mean2 = sum([prefs[person2][item] for item in si]) /len(si)\n",
    "    \n",
    "    numerator = sum([(prefs[person1][item]-mean1)*(prefs[person2][item]-mean2) for item in si])\n",
    "    \n",
    "    sigma1 = sqrt(sum([pow((prefs[person1][item]-mean1),2) for item in si]))\n",
    "    sigma2 = sqrt(sum([pow((prefs[person2][item]-mean2),2) for item in si]))\n",
    "    \n",
    "    denominator = sigma1*sigma2\n",
    "    \n",
    "    return numerator/denominator"
   ]
  },
  {
   "cell_type": "code",
   "execution_count": 6,
   "metadata": {},
   "outputs": [
    {
     "data": {
      "text/plain": [
       "0.39605901719066977"
      ]
     },
     "execution_count": 6,
     "metadata": {},
     "output_type": "execute_result"
    }
   ],
   "source": [
    "pearson_correlation(critics,\"Lisa Rose\", \"Gene Seymour\")"
   ]
  },
  {
   "cell_type": "code",
   "execution_count": 7,
   "metadata": {},
   "outputs": [
    {
     "data": {
      "text/plain": [
       "0.747017880833996"
      ]
     },
     "execution_count": 7,
     "metadata": {},
     "output_type": "execute_result"
    }
   ],
   "source": [
    "pearson_correlation(critics,\"Lisa Rose\",\"Jack Matthews\")"
   ]
  },
  {
   "cell_type": "markdown",
   "metadata": {},
   "source": [
    "## Retrieve best match for input"
   ]
  },
  {
   "cell_type": "code",
   "execution_count": 8,
   "metadata": {
    "collapsed": true
   },
   "outputs": [],
   "source": [
    "def top_match(prefs, person, n=5, similarity = pearson_correlation):\n",
    "    \n",
    "    sim_function = similarity\n",
    "    \n",
    "    scores = [(sim_function(prefs, person, other),other) for other in prefs if other != person]\n",
    "    \n",
    "    scores.sort()\n",
    "    scores.reverse()\n",
    "    \n",
    "    return scores[0:n]\n",
    "    "
   ]
  },
  {
   "cell_type": "code",
   "execution_count": 9,
   "metadata": {},
   "outputs": [
    {
     "data": {
      "text/plain": [
       "[(0.9912407071619304, 'Lisa Rose'),\n",
       " (0.924473451641905, 'Mick LaSalle'),\n",
       " (0.8934051474415642, 'Claudia Puig'),\n",
       " (0.6628489803598702, 'Jack Matthews'),\n",
       " (0.38124642583151175, 'Gene Seymour')]"
      ]
     },
     "execution_count": 9,
     "metadata": {},
     "output_type": "execute_result"
    }
   ],
   "source": [
    "top_match(critics, \"Toby\")"
   ]
  },
  {
   "cell_type": "markdown",
   "metadata": {},
   "source": [
    "## Suggest movies weighted by simliarities"
   ]
  },
  {
   "cell_type": "code",
   "execution_count": 10,
   "metadata": {
    "collapsed": true
   },
   "outputs": [],
   "source": [
    "def suggest_movies(prefs, person, similarity_function = pearson_correlation):\n",
    "    totals = {}\n",
    "    sim_sum = {}\n",
    "    \n",
    "    for other in prefs:\n",
    "        if other == person : continue\n",
    "        \n",
    "        similarity = similarity_function(prefs, person, other)\n",
    "        \n",
    "        if similarity <= 0 : continue\n",
    "            \n",
    "        for item in prefs[other]:\n",
    "            if item not in prefs[person] or prefs[person][item] == 0:\n",
    "                totals.setdefault(item, 0)\n",
    "                totals[item] += prefs[other][item]*similarity\n",
    "                \n",
    "                sim_sum.setdefault(item,0)\n",
    "                sim_sum[item] += similarity\n",
    "                \n",
    "    rankings = [(total/sim_sum[item], item ) for item, total in totals.items()]\n",
    "    rankings.sort()\n",
    "    rankings.reverse()\n",
    "    return rankings"
   ]
  },
  {
   "cell_type": "code",
   "execution_count": 11,
   "metadata": {},
   "outputs": [
    {
     "data": {
      "text/plain": [
       "[(3.3477895267131013, 'The Night Listener'),\n",
       " (2.8325499182641614, 'Lady in the Water'),\n",
       " (2.5309807037655645, 'Just My Luck')]"
      ]
     },
     "execution_count": 11,
     "metadata": {},
     "output_type": "execute_result"
    }
   ],
   "source": [
    "suggest_movies(critics, 'Toby')"
   ]
  },
  {
   "cell_type": "code",
   "execution_count": 12,
   "metadata": {},
   "outputs": [
    {
     "data": {
      "text/plain": [
       "[(3.457128694491423, 'The Night Listener'),\n",
       " (2.778584003814924, 'Lady in the Water'),\n",
       " (2.422482042361917, 'Just My Luck')]"
      ]
     },
     "execution_count": 12,
     "metadata": {},
     "output_type": "execute_result"
    }
   ],
   "source": [
    "suggest_movies(critics, 'Toby', similarity_function=euclidian_distance)"
   ]
  },
  {
   "cell_type": "markdown",
   "metadata": {},
   "source": [
    "## Matching Products"
   ]
  },
  {
   "cell_type": "markdown",
   "metadata": {
    "collapsed": true
   },
   "source": [
    "Seeing which two items are similar, as in product recommendations , is a simple matter of \"transposing\" the dataset do have the movies as keyes and the critics' ratings as values"
   ]
  },
  {
   "cell_type": "code",
   "execution_count": 13,
   "metadata": {
    "collapsed": true
   },
   "outputs": [],
   "source": [
    "movies = {}\n",
    "for person in critics:\n",
    "    for item in critics[person]:\n",
    "        movies.setdefault(item,{})\n",
    "        movies[item][person] = critics[person][item]\n",
    "    "
   ]
  },
  {
   "cell_type": "code",
   "execution_count": 14,
   "metadata": {},
   "outputs": [
    {
     "data": {
      "text/plain": [
       "[(0.657951694959769, 'You, Me and Dupree'),\n",
       " (0.48795003647426655, 'Lady in the Water'),\n",
       " (0.1118033988749895, 'Snakes on a Plane'),\n",
       " (-0.1798471947990542, 'The Night Listener'),\n",
       " (-0.42289003161103106, 'Just My Luck')]"
      ]
     },
     "execution_count": 14,
     "metadata": {},
     "output_type": "execute_result"
    }
   ],
   "source": [
    "top_match(movies,'Superman Returns')"
   ]
  },
  {
   "cell_type": "markdown",
   "metadata": {},
   "source": [
    "Negative correlation scroes can be interpreted as people that like Superman Returns tend to dislike Just My Luck."
   ]
  },
  {
   "cell_type": "markdown",
   "metadata": {},
   "source": [
    "# Item-based Collaborative Filtering"
   ]
  },
  {
   "cell_type": "markdown",
   "metadata": {},
   "source": [
    "In cases of large, sparse data sets item-based collaborative filtering is advantageous since many of the calculations can be done before the recommendation is needed. The central idea is that comparisons between items changes less frequently than comparisons between users."
   ]
  },
  {
   "cell_type": "code",
   "execution_count": 15,
   "metadata": {
    "collapsed": true
   },
   "outputs": [],
   "source": [
    "def calculate_similar_items(prefs, n=10):\n",
    "    result = {}\n",
    "    \n",
    "    item_prefs ={}\n",
    "    for person in prefs:\n",
    "        for item in prefs[person]:\n",
    "            item_prefs.setdefault(item,{})\n",
    "            item_prefs[item][person] = prefs[person][item]\n",
    "    \n",
    "    for item in item_prefs:\n",
    "\n",
    "        scores = top_match(item_prefs, item, n=n, similarity=euclidian_distance)\n",
    "        result[item] = scores\n",
    "    \n",
    "    return result"
   ]
  },
  {
   "cell_type": "code",
   "execution_count": 16,
   "metadata": {
    "collapsed": true
   },
   "outputs": [],
   "source": [
    "item_similarity = calculate_similar_items(critics)"
   ]
  },
  {
   "cell_type": "code",
   "execution_count": 17,
   "metadata": {},
   "outputs": [
    {
     "data": {
      "text/plain": [
       "[(0.3483314773547883, 'Lady in the Water'),\n",
       " (0.32037724101704074, 'You, Me and Dupree'),\n",
       " (0.2989350844248255, 'The Night Listener'),\n",
       " (0.2553967929896867, 'Snakes on a Plane'),\n",
       " (0.20799159651347807, 'Superman Returns')]"
      ]
     },
     "execution_count": 17,
     "metadata": {},
     "output_type": "execute_result"
    }
   ],
   "source": [
    "item_similarity['Just My Luck']"
   ]
  },
  {
   "cell_type": "markdown",
   "metadata": {},
   "source": [
    "Now we can omit direct usage of users, and weigh each rating of movies the user of interest has seen with the similarity of a movie he has not seen. "
   ]
  },
  {
   "cell_type": "code",
   "execution_count": 18,
   "metadata": {
    "collapsed": true
   },
   "outputs": [],
   "source": [
    "def get_recommended_items(prefs, item_similarity, user):\n",
    "    \n",
    "    user_ratings = prefs[user]\n",
    "    scores = {}\n",
    "    total_sim ={}\n",
    "    \n",
    "    for (item, rating) in user_ratings.items():\n",
    "        for (similarity, other_item) in item_similarity[item]:\n",
    "            \n",
    "            if other_item in user_ratings: continue\n",
    "                \n",
    "            scores.setdefault(other_item, 0)\n",
    "            scores[other_item] += similarity*rating\n",
    "            \n",
    "            total_sim.setdefault(other_item,0)\n",
    "            total_sim[other_item] += similarity\n",
    "    \n",
    "    rankings = [(score/total_sim[item],item) for item, score in scores.items()]\n",
    "    rankings.sort()\n",
    "    rankings.reverse()\n",
    "    \n",
    "    return rankings\n",
    "            \n",
    "            \n",
    "    "
   ]
  },
  {
   "cell_type": "code",
   "execution_count": 19,
   "metadata": {},
   "outputs": [
    {
     "data": {
      "text/plain": [
       "[(3.1667425234070894, 'The Night Listener'),\n",
       " (2.9366294028444346, 'Just My Luck'),\n",
       " (2.868767392626467, 'Lady in the Water')]"
      ]
     },
     "execution_count": 19,
     "metadata": {},
     "output_type": "execute_result"
    }
   ],
   "source": [
    "get_recommended_items(critics, item_similarity, 'Toby')"
   ]
  },
  {
   "cell_type": "code",
   "execution_count": null,
   "metadata": {
    "collapsed": true
   },
   "outputs": [],
   "source": []
  },
  {
   "cell_type": "code",
   "execution_count": null,
   "metadata": {
    "collapsed": true
   },
   "outputs": [],
   "source": []
  },
  {
   "cell_type": "code",
   "execution_count": null,
   "metadata": {
    "collapsed": true
   },
   "outputs": [],
   "source": []
  },
  {
   "cell_type": "code",
   "execution_count": null,
   "metadata": {
    "collapsed": true
   },
   "outputs": [],
   "source": []
  }
 ],
 "metadata": {
  "kernelspec": {
   "display_name": "Python 3",
   "language": "python",
   "name": "python3"
  },
  "language_info": {
   "codemirror_mode": {
    "name": "ipython",
    "version": 3
   },
   "file_extension": ".py",
   "mimetype": "text/x-python",
   "name": "python",
   "nbconvert_exporter": "python",
   "pygments_lexer": "ipython3",
   "version": "3.6.4"
  }
 },
 "nbformat": 4,
 "nbformat_minor": 2
}
