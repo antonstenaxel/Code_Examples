{
 "cells": [
  {
   "cell_type": "markdown",
   "metadata": {},
   "source": [
    "# Convolutional approach"
   ]
  },
  {
   "cell_type": "markdown",
   "metadata": {},
   "source": [
    "The idea is to treat the stock market data as \"images\" where the rows are dates, colums are stocks and the depth is features such as high/low or open/close. This way the network hopefully can learn inter-depende"
   ]
  },
  {
   "cell_type": "code",
   "execution_count": 11,
   "metadata": {
    "collapsed": true
   },
   "outputs": [],
   "source": [
    "import numpy as np\n",
    "import matplotlib.pyplot as plt\n",
    "%matplotlib inline\n",
    "from sklearn.utils import class_weight\n",
    "from __future__ import print_function\n",
    "import keras\n",
    "from keras.datasets import cifar10\n",
    "from keras.preprocessing.image import ImageDataGenerator\n",
    "from keras.models import Sequential\n",
    "from keras.layers import Dense, Dropout, Activation, Flatten\n",
    "from keras.layers import Conv2D, MaxPooling2D,SeparableConv2D\n",
    "import os\n",
    "from sklearn.metrics import classification_report, confusion_matrix\n",
    "from keras.preprocessing import sequence\n",
    "from keras.models import Sequential\n",
    "from keras.layers import Dense, Embedding\n",
    "from keras.layers import LSTM"
   ]
  },
  {
   "cell_type": "code",
   "execution_count": 12,
   "metadata": {
    "collapsed": true
   },
   "outputs": [],
   "source": [
    "def load_data(file_path):\n",
    "    all_data = np.load(file_path)\n",
    "    num_to_symbol = np.load(file_path.replace(\".npy\",\"_DIC.npy\"))\n",
    "    \n",
    "    return all_data, num_to_symbol.tolist()"
   ]
  },
  {
   "cell_type": "code",
   "execution_count": 13,
   "metadata": {
    "collapsed": true
   },
   "outputs": [],
   "source": [
    "def to_label(prediction_data):\n",
    "    #Shape of prediction_data is prediciton_size x n_features\n",
    "   \n",
    "    if np.all(prediction_data[:,2]>0): #if feature 1 is strictly increasing\n",
    "        c = 0\n",
    "        \n",
    "    elif np.all(prediction_data[:,2] < 0): #if feature 1 is strictly decreasing\n",
    "        c = 2\n",
    "    else: \n",
    "        c=1 #if feature 1 is neither increasing or decreasing its class 1\n",
    "        \n",
    "    return c"
   ]
  },
  {
   "cell_type": "code",
   "execution_count": 14,
   "metadata": {
    "collapsed": true
   },
   "outputs": [],
   "source": [
    "# Chops up data into size chunks\n",
    "def to_datapoints(all_data, chunk_size, prediction_size, prediction_symbol_index):\n",
    "    \n",
    "    n_entries, n_symbols, n_features = np.shape(all_data)\n",
    "    \n",
    "    n_datapoints = n_entries-chunk_size-prediction_size+1\n",
    "    \n",
    "    datapoints = np.zeros([n_datapoints,chunk_size,n_symbols,n_features])\n",
    "    labels = np.zeros([n_datapoints])\n",
    "    \n",
    "    for i in range(n_datapoints):\n",
    "        data_chunk = all_data[i:i+chunk_size,:,:]\n",
    "        datapoints[i,:,:,:] = data_chunk\n",
    "        \n",
    "        prediction_data = all_data[i+chunk_size:i+chunk_size+prediction_size,prediction_symbol_index,:]\n",
    "        labels[i] = to_label(prediction_data)\n",
    "        \n",
    "    return datapoints,labels"
   ]
  },
  {
   "cell_type": "code",
   "execution_count": 15,
   "metadata": {
    "collapsed": true
   },
   "outputs": [],
   "source": [
    "def train_test_split(datapoints, labels, fraction = 0.8, shuffle = False):\n",
    "    \n",
    "    data = datapoints.copy()\n",
    "    \n",
    "    \n",
    "    n_testpoints = int(fraction*np.shape(datapoints)[0])\n",
    "    \n",
    "    if(shuffle):\n",
    "        n_datapoints = np.shape(data)[0]\n",
    "        permutation = np.random.permutation(np.arange(n_datapoints))\n",
    "        \n",
    "        data = datapoints[permutation,:,:,:]\n",
    "        \n",
    "    x_train = data[:n_testpoints,:,:,:]\n",
    "    x_test = data[n_testpoints:,:,:,:]\n",
    "    y_train = labels[:n_testpoints]\n",
    "    y_test = labels[n_testpoints:]\n",
    "    \n",
    "    return x_train,y_train, x_test, y_test"
   ]
  },
  {
   "cell_type": "code",
   "execution_count": 7,
   "metadata": {},
   "outputs": [
    {
     "ename": "FileNotFoundError",
     "evalue": "[Errno 2] No such file or directory: 'processed_data/aligned_dates/all_data_with_aligned_dates_changes.npy'",
     "output_type": "error",
     "traceback": [
      "\u001b[0;31m---------------------------------------------------------------------------\u001b[0m",
      "\u001b[0;31mFileNotFoundError\u001b[0m                         Traceback (most recent call last)",
      "\u001b[0;32m<ipython-input-7-4422e8ef7495>\u001b[0m in \u001b[0;36m<module>\u001b[0;34m()\u001b[0m\n\u001b[1;32m      1\u001b[0m \u001b[0mfile_path\u001b[0m \u001b[0;34m=\u001b[0m \u001b[0;34m\"processed_data/aligned_dates/all_data_with_aligned_dates_changes.npy\"\u001b[0m\u001b[0;34m\u001b[0m\u001b[0m\n\u001b[0;32m----> 2\u001b[0;31m \u001b[0mall_data\u001b[0m\u001b[0;34m,\u001b[0m \u001b[0msym_to_num\u001b[0m \u001b[0;34m=\u001b[0m \u001b[0mload_data\u001b[0m\u001b[0;34m(\u001b[0m\u001b[0mfile_path\u001b[0m\u001b[0;34m)\u001b[0m\u001b[0;34m\u001b[0m\u001b[0m\n\u001b[0m\u001b[1;32m      3\u001b[0m \u001b[0mnum_to_sym\u001b[0m \u001b[0;34m=\u001b[0m \u001b[0;34m{\u001b[0m\u001b[0mvalue\u001b[0m \u001b[0;34m:\u001b[0m \u001b[0mkey\u001b[0m \u001b[0;32mfor\u001b[0m \u001b[0;34m(\u001b[0m\u001b[0mkey\u001b[0m\u001b[0;34m,\u001b[0m\u001b[0mvalue\u001b[0m\u001b[0;34m)\u001b[0m \u001b[0;32min\u001b[0m \u001b[0msym_to_num\u001b[0m\u001b[0;34m.\u001b[0m\u001b[0mitems\u001b[0m\u001b[0;34m(\u001b[0m\u001b[0;34m)\u001b[0m\u001b[0;34m}\u001b[0m\u001b[0;34m\u001b[0m\u001b[0m\n",
      "\u001b[0;32m<ipython-input-3-03f06ab0199d>\u001b[0m in \u001b[0;36mload_data\u001b[0;34m(file_path)\u001b[0m\n\u001b[1;32m      1\u001b[0m \u001b[0;32mdef\u001b[0m \u001b[0mload_data\u001b[0m\u001b[0;34m(\u001b[0m\u001b[0mfile_path\u001b[0m\u001b[0;34m)\u001b[0m\u001b[0;34m:\u001b[0m\u001b[0;34m\u001b[0m\u001b[0m\n\u001b[0;32m----> 2\u001b[0;31m     \u001b[0mall_data\u001b[0m \u001b[0;34m=\u001b[0m \u001b[0mnp\u001b[0m\u001b[0;34m.\u001b[0m\u001b[0mload\u001b[0m\u001b[0;34m(\u001b[0m\u001b[0mfile_path\u001b[0m\u001b[0;34m)\u001b[0m\u001b[0;34m\u001b[0m\u001b[0m\n\u001b[0m\u001b[1;32m      3\u001b[0m     \u001b[0mnum_to_symbol\u001b[0m \u001b[0;34m=\u001b[0m \u001b[0mnp\u001b[0m\u001b[0;34m.\u001b[0m\u001b[0mload\u001b[0m\u001b[0;34m(\u001b[0m\u001b[0mfile_path\u001b[0m\u001b[0;34m.\u001b[0m\u001b[0mreplace\u001b[0m\u001b[0;34m(\u001b[0m\u001b[0;34m\".npy\"\u001b[0m\u001b[0;34m,\u001b[0m\u001b[0;34m\"_DIC.npy\"\u001b[0m\u001b[0;34m)\u001b[0m\u001b[0;34m)\u001b[0m\u001b[0;34m\u001b[0m\u001b[0m\n\u001b[1;32m      4\u001b[0m \u001b[0;34m\u001b[0m\u001b[0m\n\u001b[1;32m      5\u001b[0m     \u001b[0;32mreturn\u001b[0m \u001b[0mall_data\u001b[0m\u001b[0;34m,\u001b[0m \u001b[0mnum_to_symbol\u001b[0m\u001b[0;34m.\u001b[0m\u001b[0mtolist\u001b[0m\u001b[0;34m(\u001b[0m\u001b[0;34m)\u001b[0m\u001b[0;34m\u001b[0m\u001b[0m\n",
      "\u001b[0;32m/anaconda3/lib/python3.6/site-packages/numpy/lib/npyio.py\u001b[0m in \u001b[0;36mload\u001b[0;34m(file, mmap_mode, allow_pickle, fix_imports, encoding)\u001b[0m\n\u001b[1;32m    368\u001b[0m     \u001b[0mown_fid\u001b[0m \u001b[0;34m=\u001b[0m \u001b[0;32mFalse\u001b[0m\u001b[0;34m\u001b[0m\u001b[0m\n\u001b[1;32m    369\u001b[0m     \u001b[0;32mif\u001b[0m \u001b[0misinstance\u001b[0m\u001b[0;34m(\u001b[0m\u001b[0mfile\u001b[0m\u001b[0;34m,\u001b[0m \u001b[0mbasestring\u001b[0m\u001b[0;34m)\u001b[0m\u001b[0;34m:\u001b[0m\u001b[0;34m\u001b[0m\u001b[0m\n\u001b[0;32m--> 370\u001b[0;31m         \u001b[0mfid\u001b[0m \u001b[0;34m=\u001b[0m \u001b[0mopen\u001b[0m\u001b[0;34m(\u001b[0m\u001b[0mfile\u001b[0m\u001b[0;34m,\u001b[0m \u001b[0;34m\"rb\"\u001b[0m\u001b[0;34m)\u001b[0m\u001b[0;34m\u001b[0m\u001b[0m\n\u001b[0m\u001b[1;32m    371\u001b[0m         \u001b[0mown_fid\u001b[0m \u001b[0;34m=\u001b[0m \u001b[0;32mTrue\u001b[0m\u001b[0;34m\u001b[0m\u001b[0m\n\u001b[1;32m    372\u001b[0m     \u001b[0;32melif\u001b[0m \u001b[0mis_pathlib_path\u001b[0m\u001b[0;34m(\u001b[0m\u001b[0mfile\u001b[0m\u001b[0;34m)\u001b[0m\u001b[0;34m:\u001b[0m\u001b[0;34m\u001b[0m\u001b[0m\n",
      "\u001b[0;31mFileNotFoundError\u001b[0m: [Errno 2] No such file or directory: 'processed_data/aligned_dates/all_data_with_aligned_dates_changes.npy'"
     ]
    }
   ],
   "source": [
    "file_path = \"processed_data/aligned_dates/all_data_with_aligned_dates_changes.npy\"\n",
    "all_data, sym_to_num = load_data(file_path)\n",
    "num_to_sym = {value : key for (key,value) in sym_to_num.items()}"
   ]
  },
  {
   "cell_type": "code",
   "execution_count": null,
   "metadata": {
    "collapsed": true
   },
   "outputs": [],
   "source": [
    "plt.imshow(all_data[1000:1300,:300,0])\n",
    "plt.colorbar()\n",
    "plt.clim(-0.1,0.1)"
   ]
  },
  {
   "cell_type": "code",
   "execution_count": null,
   "metadata": {
    "collapsed": true
   },
   "outputs": [],
   "source": [
    "np.shape(all_data)"
   ]
  },
  {
   "cell_type": "markdown",
   "metadata": {},
   "source": [
    "## Sort out newly noted stocks"
   ]
  },
  {
   "cell_type": "code",
   "execution_count": 10,
   "metadata": {},
   "outputs": [
    {
     "ename": "NameError",
     "evalue": "name 'all_data' is not defined",
     "output_type": "error",
     "traceback": [
      "\u001b[0;31m---------------------------------------------------------------------------\u001b[0m",
      "\u001b[0;31mNameError\u001b[0m                                 Traceback (most recent call last)",
      "\u001b[0;32m<ipython-input-10-858f23d6e65e>\u001b[0m in \u001b[0;36m<module>\u001b[0;34m()\u001b[0m\n\u001b[0;32m----> 1\u001b[0;31m \u001b[0mtmp\u001b[0m \u001b[0;34m=\u001b[0m \u001b[0mnp\u001b[0m\u001b[0;34m.\u001b[0m\u001b[0mshape\u001b[0m\u001b[0;34m(\u001b[0m\u001b[0mall_data\u001b[0m\u001b[0;34m)\u001b[0m\u001b[0;34m[\u001b[0m\u001b[0;36m0\u001b[0m\u001b[0;34m]\u001b[0m\u001b[0;34m-\u001b[0m\u001b[0mnp\u001b[0m\u001b[0;34m.\u001b[0m\u001b[0msum\u001b[0m\u001b[0;34m(\u001b[0m\u001b[0mall_data\u001b[0m\u001b[0;34m[\u001b[0m\u001b[0;34m:\u001b[0m\u001b[0;34m,\u001b[0m\u001b[0;34m:\u001b[0m\u001b[0;34m,\u001b[0m\u001b[0;36m0\u001b[0m\u001b[0;34m]\u001b[0m \u001b[0;34m==\u001b[0m \u001b[0;36m0\u001b[0m\u001b[0;34m,\u001b[0m\u001b[0maxis\u001b[0m\u001b[0;34m=\u001b[0m\u001b[0;36m0\u001b[0m\u001b[0;34m)\u001b[0m\u001b[0;34m>\u001b[0m\u001b[0;36m3000\u001b[0m\u001b[0;34m\u001b[0m\u001b[0m\n\u001b[0m\u001b[1;32m      2\u001b[0m \u001b[0mchosen_stocks\u001b[0m \u001b[0;34m=\u001b[0m \u001b[0mnp\u001b[0m\u001b[0;34m.\u001b[0m\u001b[0margwhere\u001b[0m\u001b[0;34m(\u001b[0m\u001b[0mtmp\u001b[0m\u001b[0;34m)\u001b[0m\u001b[0;34m.\u001b[0m\u001b[0mflatten\u001b[0m\u001b[0;34m(\u001b[0m\u001b[0;34m)\u001b[0m\u001b[0;34m\u001b[0m\u001b[0m\n\u001b[1;32m      3\u001b[0m \u001b[0mchosen_data\u001b[0m \u001b[0;34m=\u001b[0m \u001b[0mall_data\u001b[0m\u001b[0;34m[\u001b[0m\u001b[0;34m:\u001b[0m\u001b[0;36m3000\u001b[0m\u001b[0;34m,\u001b[0m\u001b[0mchosen_stocks\u001b[0m\u001b[0;34m,\u001b[0m\u001b[0;34m:\u001b[0m\u001b[0;34m]\u001b[0m\u001b[0;34m\u001b[0m\u001b[0m\n",
      "\u001b[0;31mNameError\u001b[0m: name 'all_data' is not defined"
     ]
    }
   ],
   "source": [
    "tmp = np.shape(all_data)[0]-np.sum(all_data[:,:,0] == 0,axis=0)>3000\n",
    "chosen_stocks = np.argwhere(tmp).flatten()\n",
    "chosen_data = all_data[:3000,chosen_stocks,:]"
   ]
  },
  {
   "cell_type": "code",
   "execution_count": null,
   "metadata": {
    "collapsed": true
   },
   "outputs": [],
   "source": [
    "stocks = [num_to_sym[x] for x in chosen_stocks]\n",
    "print(stocks)"
   ]
  },
  {
   "cell_type": "code",
   "execution_count": 8,
   "metadata": {},
   "outputs": [
    {
     "ename": "NameError",
     "evalue": "name 'chosen_data' is not defined",
     "output_type": "error",
     "traceback": [
      "\u001b[0;31m---------------------------------------------------------------------------\u001b[0m",
      "\u001b[0;31mNameError\u001b[0m                                 Traceback (most recent call last)",
      "\u001b[0;32m<ipython-input-8-b113fbb774fa>\u001b[0m in \u001b[0;36m<module>\u001b[0;34m()\u001b[0m\n\u001b[0;32m----> 1\u001b[0;31m \u001b[0mnp\u001b[0m\u001b[0;34m.\u001b[0m\u001b[0mshape\u001b[0m\u001b[0;34m(\u001b[0m\u001b[0mchosen_data\u001b[0m\u001b[0;34m)\u001b[0m\u001b[0;34m\u001b[0m\u001b[0m\n\u001b[0m",
      "\u001b[0;31mNameError\u001b[0m: name 'chosen_data' is not defined"
     ]
    }
   ],
   "source": [
    "np.shape(chosen_data)"
   ]
  },
  {
   "cell_type": "code",
   "execution_count": 9,
   "metadata": {},
   "outputs": [
    {
     "ename": "NameError",
     "evalue": "name 'all_data' is not defined",
     "output_type": "error",
     "traceback": [
      "\u001b[0;31m---------------------------------------------------------------------------\u001b[0m",
      "\u001b[0;31mNameError\u001b[0m                                 Traceback (most recent call last)",
      "\u001b[0;32m<ipython-input-9-f8789f12e61b>\u001b[0m in \u001b[0;36m<module>\u001b[0;34m()\u001b[0m\n\u001b[0;32m----> 1\u001b[0;31m \u001b[0mplt\u001b[0m\u001b[0;34m.\u001b[0m\u001b[0mimshow\u001b[0m\u001b[0;34m(\u001b[0m\u001b[0mall_data\u001b[0m\u001b[0;34m[\u001b[0m\u001b[0;36m1000\u001b[0m\u001b[0;34m:\u001b[0m\u001b[0;36m1300\u001b[0m\u001b[0;34m,\u001b[0m\u001b[0;34m:\u001b[0m\u001b[0;34m,\u001b[0m\u001b[0;36m0\u001b[0m\u001b[0;34m]\u001b[0m\u001b[0;34m)\u001b[0m\u001b[0;34m\u001b[0m\u001b[0m\n\u001b[0m\u001b[1;32m      2\u001b[0m \u001b[0mplt\u001b[0m\u001b[0;34m.\u001b[0m\u001b[0mcolorbar\u001b[0m\u001b[0;34m(\u001b[0m\u001b[0;34m)\u001b[0m\u001b[0;34m\u001b[0m\u001b[0m\n\u001b[1;32m      3\u001b[0m \u001b[0mplt\u001b[0m\u001b[0;34m.\u001b[0m\u001b[0mclim\u001b[0m\u001b[0;34m(\u001b[0m\u001b[0;34m-\u001b[0m\u001b[0;36m0.1\u001b[0m\u001b[0;34m,\u001b[0m\u001b[0;36m0.1\u001b[0m\u001b[0;34m)\u001b[0m\u001b[0;34m\u001b[0m\u001b[0m\n",
      "\u001b[0;31mNameError\u001b[0m: name 'all_data' is not defined"
     ]
    }
   ],
   "source": [
    "plt.imshow(all_data[1000:1300,:,0])\n",
    "plt.colorbar()\n",
    "plt.clim(-0.1,0.1)"
   ]
  },
  {
   "cell_type": "markdown",
   "metadata": {},
   "source": [
    "## Chop up into training data"
   ]
  },
  {
   "cell_type": "code",
   "execution_count": 254,
   "metadata": {
    "collapsed": true
   },
   "outputs": [],
   "source": [
    "#Normalize volume\n",
    "chosen_data[:,:,5] = chosen_data[:,:,5] / np.max(chosen_data[:,:,5],axis=0)"
   ]
  },
  {
   "cell_type": "code",
   "execution_count": 258,
   "metadata": {},
   "outputs": [
    {
     "name": "stdout",
     "output_type": "stream",
     "text": [
      "Symbol is ATCO-A\n"
     ]
    }
   ],
   "source": [
    "chunk_size = 10\n",
    "prediction_size = 3\n",
    "symbol_index = 10\n",
    "datapoints, labels = to_datapoints(chosen_data[:,:,[1,2,3]],chunk_size,prediction_size,symbol_index)\n",
    "print(\"Symbol is {}\".format(num_to_sym[symbol_index]))"
   ]
  },
  {
   "cell_type": "code",
   "execution_count": 259,
   "metadata": {},
   "outputs": [
    {
     "data": {
      "text/plain": [
       "(2988, 10, 182, 3)"
      ]
     },
     "execution_count": 259,
     "metadata": {},
     "output_type": "execute_result"
    }
   ],
   "source": [
    "np.shape(datapoints)"
   ]
  },
  {
   "cell_type": "code",
   "execution_count": 260,
   "metadata": {},
   "outputs": [
    {
     "name": "stdout",
     "output_type": "stream",
     "text": [
      "Class distribution is 256/2472/260 \n"
     ]
    }
   ],
   "source": [
    "count = np.bincount(labels.astype(np.uint8))\n",
    "print(\"Class distribution is {}/{}/{} \".format(count[0],count[1],count[2]))"
   ]
  },
  {
   "cell_type": "markdown",
   "metadata": {},
   "source": [
    "# Start training CNN"
   ]
  },
  {
   "cell_type": "code",
   "execution_count": 302,
   "metadata": {
    "collapsed": true
   },
   "outputs": [],
   "source": [
    "x_train,y_train, x_test, y_test = train_test_split(datapoints, labels, shuffle = False)"
   ]
  },
  {
   "cell_type": "code",
   "execution_count": 303,
   "metadata": {},
   "outputs": [
    {
     "name": "stdout",
     "output_type": "stream",
     "text": [
      "Training class distribution is 0.079/0.838/0.082 \n",
      "Test class distribution is 0.110/0.783/0.107 \n",
      "x_train shape: (2390, 10, 182, 3)\n",
      "2390 train samples\n",
      "598 test samples\n"
     ]
    }
   ],
   "source": [
    "train_count = np.bincount(y_train.astype(np.uint8))\n",
    "train_s = np.sum(train_count)\n",
    "print(\"Training class distribution is {:.3f}/{:.3f}/{:.3f} \".format(train_count[0]/train_s,train_count[1]/train_s,train_count[2]/train_s))\n",
    "test_count = np.bincount(y_test.astype(np.uint8))\n",
    "test_s = np.sum(test_count)\n",
    "print(\"Test class distribution is {:.3f}/{:.3f}/{:.3f} \".format(test_count[0]/test_s,test_count[1]/test_s,test_count[2]/test_s))\n",
    "print('x_train shape:', x_train.shape)\n",
    "print(x_train.shape[0], 'train samples')\n",
    "print(x_test.shape[0], 'test samples')"
   ]
  },
  {
   "cell_type": "code",
   "execution_count": 304,
   "metadata": {
    "collapsed": true
   },
   "outputs": [],
   "source": [
    "cw = class_weight.compute_class_weight('balanced',np.unique(y_train),y_train)"
   ]
  },
  {
   "cell_type": "code",
   "execution_count": 305,
   "metadata": {
    "collapsed": true
   },
   "outputs": [],
   "source": [
    "y_train = keras.utils.to_categorical(y_train, num_classes)\n",
    "y_test = keras.utils.to_categorical(y_test, num_classes)"
   ]
  },
  {
   "cell_type": "code",
   "execution_count": 306,
   "metadata": {
    "collapsed": true
   },
   "outputs": [],
   "source": [
    "batch_size = 16\n",
    "num_classes = 3\n",
    "epochs = 20"
   ]
  },
  {
   "cell_type": "code",
   "execution_count": 307,
   "metadata": {
    "collapsed": true
   },
   "outputs": [],
   "source": [
    "model = None\n",
    "model = Sequential()\n",
    "\n",
    "model.add(Conv2D(16, (3, 3),input_shape=x_train.shape[1:]))\n",
    "model.add(Activation('relu'))\n",
    "model.add(Conv2D(8, (3, 3)))\n",
    "model.add(Activation('relu'))\n",
    "#model.add(MaxPooling2D(pool_size=(2, 2)))\n",
    "model.add(Dropout(0.25))\n",
    "\n",
    "model.add(Flatten())\n",
    "model.add(Dense(32))\n",
    "model.add(Activation('relu'))\n",
    "#model.add(Dense(64))\n",
    "#model.add(Activation('relu'))\n",
    "model.add(Dropout(0.25))\n",
    "model.add(Dense(num_classes))\n",
    "model.add(Activation('softmax'))"
   ]
  },
  {
   "cell_type": "code",
   "execution_count": 308,
   "metadata": {
    "collapsed": true
   },
   "outputs": [],
   "source": [
    "opt = keras.optimizers.Adam()\n",
    "model.compile(loss='categorical_crossentropy',\n",
    "              optimizer=opt,\n",
    "              metrics=[keras.metrics.categorical_accuracy])"
   ]
  },
  {
   "cell_type": "code",
   "execution_count": 309,
   "metadata": {
    "collapsed": true
   },
   "outputs": [],
   "source": [
    "datagen = ImageDataGenerator(featurewise_center=True, featurewise_std_normalization=True) \n",
    "datagen.fit(x_train)"
   ]
  },
  {
   "cell_type": "code",
   "execution_count": 311,
   "metadata": {},
   "outputs": [
    {
     "name": "stdout",
     "output_type": "stream",
     "text": [
      "Epoch 1/20\n",
      "150/150 [==============================] - 5s 35ms/step - loss: 0.6488 - categorical_accuracy: 0.8314 - val_loss: 0.6909 - val_categorical_accuracy: 0.7826\n",
      "Epoch 2/20\n",
      "150/150 [==============================] - 5s 32ms/step - loss: 0.5930 - categorical_accuracy: 0.8372 - val_loss: 0.6815 - val_categorical_accuracy: 0.7826\n",
      "Epoch 3/20\n",
      "150/150 [==============================] - 5s 33ms/step - loss: 0.5899 - categorical_accuracy: 0.8387 - val_loss: 0.6901 - val_categorical_accuracy: 0.7826\n",
      "Epoch 4/20\n",
      "150/150 [==============================] - 5s 31ms/step - loss: 0.5830 - categorical_accuracy: 0.8376 - val_loss: 0.6895 - val_categorical_accuracy: 0.7826\n",
      "Epoch 5/20\n",
      "150/150 [==============================] - 5s 32ms/step - loss: 0.5722 - categorical_accuracy: 0.8392 - val_loss: 0.6865 - val_categorical_accuracy: 0.7826\n",
      "Epoch 6/20\n",
      "150/150 [==============================] - 5s 32ms/step - loss: 0.5950 - categorical_accuracy: 0.8378 - val_loss: 0.6769 - val_categorical_accuracy: 0.7826\n",
      "Epoch 7/20\n",
      "150/150 [==============================] - 5s 32ms/step - loss: 0.5800 - categorical_accuracy: 0.8392 - val_loss: 0.6767 - val_categorical_accuracy: 0.7826\n",
      "Epoch 8/20\n",
      "150/150 [==============================] - 5s 34ms/step - loss: 0.5736 - categorical_accuracy: 0.8387 - val_loss: 0.6766 - val_categorical_accuracy: 0.7826\n",
      "Epoch 9/20\n",
      "150/150 [==============================] - 6s 37ms/step - loss: 0.5787 - categorical_accuracy: 0.8385 - val_loss: 0.6841 - val_categorical_accuracy: 0.7826\n",
      "Epoch 10/20\n",
      "150/150 [==============================] - 5s 35ms/step - loss: 0.5778 - categorical_accuracy: 0.8387 - val_loss: 0.6775 - val_categorical_accuracy: 0.7826\n",
      "Epoch 11/20\n",
      "150/150 [==============================] - 5s 34ms/step - loss: 0.5682 - categorical_accuracy: 0.8392 - val_loss: 0.6767 - val_categorical_accuracy: 0.7826\n",
      "Epoch 12/20\n",
      "150/150 [==============================] - 5s 35ms/step - loss: 0.5775 - categorical_accuracy: 0.8385 - val_loss: 0.6777 - val_categorical_accuracy: 0.7826\n",
      "Epoch 13/20\n",
      "150/150 [==============================] - 5s 37ms/step - loss: 0.5715 - categorical_accuracy: 0.8392 - val_loss: 0.6745 - val_categorical_accuracy: 0.7826\n",
      "Epoch 14/20\n",
      "150/150 [==============================] - 5s 34ms/step - loss: 0.5695 - categorical_accuracy: 0.8378 - val_loss: 0.6789 - val_categorical_accuracy: 0.7826\n",
      "Epoch 15/20\n",
      "150/150 [==============================] - 5s 34ms/step - loss: 0.5777 - categorical_accuracy: 0.8378 - val_loss: 0.6785 - val_categorical_accuracy: 0.7826\n",
      "Epoch 16/20\n",
      "150/150 [==============================] - 6s 37ms/step - loss: 0.5874 - categorical_accuracy: 0.8385 - val_loss: 0.6796 - val_categorical_accuracy: 0.7826\n",
      "Epoch 17/20\n",
      "150/150 [==============================] - 5s 34ms/step - loss: 0.5895 - categorical_accuracy: 0.8385 - val_loss: 0.6767 - val_categorical_accuracy: 0.7826\n",
      "Epoch 18/20\n",
      "150/150 [==============================] - 5s 34ms/step - loss: 0.5968 - categorical_accuracy: 0.8396 - val_loss: 0.6740 - val_categorical_accuracy: 0.7826\n",
      "Epoch 19/20\n",
      "150/150 [==============================] - 5s 36ms/step - loss: 0.5926 - categorical_accuracy: 0.8376 - val_loss: 0.6723 - val_categorical_accuracy: 0.7826\n",
      "Epoch 20/20\n",
      "150/150 [==============================] - 5s 35ms/step - loss: 0.5852 - categorical_accuracy: 0.8369 - val_loss: 0.7012 - val_categorical_accuracy: 0.7826\n"
     ]
    }
   ],
   "source": [
    "history = model.fit_generator(datagen.flow(x_train,y_train,batch_size = batch_size),\n",
    "                              epochs=epochs,\n",
    "                              validation_data=(x_test,y_test),\n",
    "                              class_weight =cw)"
   ]
  },
  {
   "cell_type": "code",
   "execution_count": 312,
   "metadata": {},
   "outputs": [
    {
     "data": {
      "text/plain": [
       "[0.67491802647959032, 0.78260869565217395]"
      ]
     },
     "execution_count": 312,
     "metadata": {},
     "output_type": "execute_result"
    }
   ],
   "source": [
    "model.evaluate_generator(datagen.flow(x_test,y_test,batch_size=1))"
   ]
  },
  {
   "cell_type": "code",
   "execution_count": 313,
   "metadata": {},
   "outputs": [
    {
     "name": "stdout",
     "output_type": "stream",
     "text": [
      "dict_keys(['val_loss', 'val_categorical_accuracy', 'loss', 'categorical_accuracy'])\n"
     ]
    }
   ],
   "source": [
    "print(history.history.keys())"
   ]
  },
  {
   "cell_type": "code",
   "execution_count": 314,
   "metadata": {},
   "outputs": [
    {
     "data": {
      "image/png": "[encoded data removed]",
      "text/plain": [
       "<matplotlib.figure.Figure at 0x1a5bf60978>"
      ]
     },
     "metadata": {},
     "output_type": "display_data"
    }
   ],
   "source": [
    "# summarize history for accuracy\n",
    "plt.plot(history.history['categorical_accuracy'])\n",
    "plt.plot(history.history['val_categorical_accuracy'])\n",
    "plt.title('model accuracy')\n",
    "plt.ylabel('accuracy')\n",
    "plt.xlabel('epoch')\n",
    "plt.legend(['train', 'test'], loc='upper left')\n",
    "plt.show()"
   ]
  },
  {
   "cell_type": "code",
   "execution_count": 323,
   "metadata": {
    "collapsed": true
   },
   "outputs": [],
   "source": [
    "output = model.predict_generator(datagen.flow(x_test))\n",
    "y_pred = np.argmax(output,axis = 1)\n",
    "y_true = np.argmax(y_test,axis = 1)"
   ]
  },
  {
   "cell_type": "code",
   "execution_count": 316,
   "metadata": {
    "collapsed": true
   },
   "outputs": [],
   "source": [
    "cm = confusion_matrix(y_true,y_pred)"
   ]
  },
  {
   "cell_type": "code",
   "execution_count": 317,
   "metadata": {},
   "outputs": [
    {
     "data": {
      "image/png": "[encoded data removed]",
      "text/plain": [
       "<matplotlib.figure.Figure at 0x1a5bf41c18>"
      ]
     },
     "metadata": {},
     "output_type": "display_data"
    },
    {
     "name": "stdout",
     "output_type": "stream",
     "text": [
      "Accuracy: {} 0.782608695652\n"
     ]
    }
   ],
   "source": [
    "img = plt.matshow(cm,cmap=\"binary\")\n",
    "plt.colorbar()\n",
    "plt.xlabel('Predicted Class')\n",
    "plt.ylabel('Actual Class')\n",
    "plt.show()\n",
    "print(\"Accuracy: {}\", np.sum(np.diag(cm))/np.shape(y_true)[0])\n",
    "\n"
   ]
  },
  {
   "cell_type": "code",
   "execution_count": 325,
   "metadata": {},
   "outputs": [
    {
     "name": "stdout",
     "output_type": "stream",
     "text": [
      "[ 0.0962157   0.79715371  0.10663062] [ 0.  1.  0.]\n",
      "[ 0.09744148  0.79494232  0.10761622] [ 0.  1.  0.]\n",
      "[ 0.09638092  0.79687953  0.10673951] [ 0.  1.  0.]\n",
      "[ 0.09743308  0.79495943  0.10760754] [ 0.  1.  0.]\n",
      "[ 0.09625478  0.79710418  0.10664105] [ 0.  1.  0.]\n",
      "[ 0.09626588  0.79708147  0.10665261] [ 0.  1.  0.]\n",
      "[ 0.09725513  0.79520351  0.10754137] [ 0.  1.  0.]\n",
      "[ 0.09753437  0.79460764  0.10785802] [ 0.  1.  0.]\n",
      "[ 0.09634055  0.79692     0.10673942] [ 0.  1.  0.]\n",
      "[ 0.09629142  0.79702491  0.10668364] [ 0.  1.  0.]\n",
      "[ 0.09661289  0.79641277  0.10697427] [ 0.  1.  0.]\n",
      "[ 0.0974028   0.7951296   0.10746756] [ 0.  1.  0.]\n",
      "[ 0.09625217  0.79710501  0.10664277] [ 0.  1.  0.]\n",
      "[ 0.09666058  0.79641402  0.10692541] [ 0.  1.  0.]\n",
      "[ 0.09629038  0.79702336  0.10668624] [ 0.  1.  0.]\n",
      "[ 0.0973467   0.79518902  0.10746428] [ 0.  1.  0.]\n",
      "[ 0.0974348   0.79486549  0.10769974] [ 0.  1.  0.]\n",
      "[ 0.09651195  0.79660684  0.10688119] [ 0.  1.  0.]\n",
      "[ 0.09626862  0.79707593  0.10665541] [ 0.  1.  0.]\n",
      "[ 0.09728535  0.79530865  0.10740597] [ 0.  1.  0.]\n"
     ]
    }
   ],
   "source": [
    "for i in range(20):\n",
    "    print(output[i,:],y_train[i])"
   ]
  },
  {
   "cell_type": "markdown",
   "metadata": {},
   "source": [
    "# Train RNN"
   ]
  },
  {
   "cell_type": "markdown",
   "metadata": {},
   "source": [
    "## Convert datapoints to RNN"
   ]
  },
  {
   "cell_type": "code",
   "execution_count": 1,
   "metadata": {},
   "outputs": [
    {
     "ename": "NameError",
     "evalue": "name 'np' is not defined",
     "output_type": "error",
     "traceback": [
      "\u001b[0;31m---------------------------------------------------------------------------\u001b[0m",
      "\u001b[0;31mNameError\u001b[0m                                 Traceback (most recent call last)",
      "\u001b[0;32m<ipython-input-1-fa09144d5008>\u001b[0m in \u001b[0;36m<module>\u001b[0;34m()\u001b[0m\n\u001b[0;32m----> 1\u001b[0;31m \u001b[0mnp\u001b[0m\u001b[0;34m.\u001b[0m\u001b[0mshape\u001b[0m\u001b[0;34m(\u001b[0m\u001b[0mall_data\u001b[0m\u001b[0;34m)\u001b[0m\u001b[0;34m\u001b[0m\u001b[0m\n\u001b[0m",
      "\u001b[0;31mNameError\u001b[0m: name 'np' is not defined"
     ]
    }
   ],
   "source": [
    "np.shape(all_data)"
   ]
  },
  {
   "cell_type": "code",
   "execution_count": 69,
   "metadata": {},
   "outputs": [
    {
     "name": "stdout",
     "output_type": "stream",
     "text": [
      "Step 0 of 377\n",
      "Step 50 of 377\n",
      "Step 100 of 377\n",
      "Step 150 of 377\n",
      "Step 200 of 377\n",
      "Step 250 of 377\n",
      "Step 300 of 377\n",
      "Step 350 of 377\n",
      "Complete, a total of 1079605 datapoints were added\n"
     ]
    }
   ],
   "source": [
    "n_entries, n_symbols, _ = np.shape(all_data)\n",
    "\n",
    "sample_size = 20\n",
    "prediction_size = 3\n",
    "\n",
    "n_features = 5\n",
    "\n",
    "time_series_data = -55*np.ones([n_entries*n_symbols,sample_size,n_features])\n",
    "time_series_labels = -55*np.ones([n_entries*n_symbols])\n",
    "\n",
    "\n",
    "k = 0\n",
    "for symbol in range(n_symbols):\n",
    "    \n",
    "    if(symbol % 50 == 0):\n",
    "        print(\"Step {} of {}\".format(symbol,n_symbols))\n",
    "    \n",
    "    last_entry = n_entries - 1\n",
    "    \n",
    "    while(all_data[last_entry,symbol,0] == 0):\n",
    "        last_entry -=1\n",
    "    \n",
    "    non_zero_data = all_data[:last_entry,symbol,:5] #Discard dividends amount and split coefficient\n",
    "    \n",
    "    \n",
    "    for entry in range(last_entry-sample_size-prediction_size):\n",
    "        \n",
    "        datapoint = non_zero_data[entry:entry+sample_size,:]\n",
    "        \n",
    "        if np.any(abs(datapoint[:,0]) > 1):\n",
    "            continue\n",
    "            \n",
    "        prediction_data = non_zero_data[entry+sample_size:entry+sample_size+prediction_size,:]\n",
    "        label = to_label(prediction_data)\n",
    "        \n",
    "        time_series_data[k,:,:] = datapoint\n",
    "        time_series_labels[k] = label\n",
    "        k+=1\n",
    "    \n",
    "    \n",
    "print(\"Complete, a total of {} datapoints were added\".format(k))\n",
    "\n",
    "x = time_series_data[:k,:,:]\n",
    "y = time_series_labels[:k]"
   ]
  },
  {
   "cell_type": "code",
   "execution_count": 74,
   "metadata": {},
   "outputs": [
    {
     "data": {
      "image/png": "[encoded data removed]",
      "text/plain": [
       "<matplotlib.figure.Figure at 0x1b8cf35240>"
      ]
     },
     "metadata": {},
     "output_type": "display_data"
    }
   ],
   "source": [
    "plt.plot(x[0,:,:])\n",
    "plt.show()"
   ]
  },
  {
   "cell_type": "code",
   "execution_count": 75,
   "metadata": {},
   "outputs": [
    {
     "data": {
      "text/plain": [
       "(1079605, 20, 5)"
      ]
     },
     "execution_count": 75,
     "metadata": {},
     "output_type": "execute_result"
    }
   ],
   "source": [
    "np.shape(x)"
   ]
  },
  {
   "cell_type": "code",
   "execution_count": 76,
   "metadata": {},
   "outputs": [
    {
     "data": {
      "text/plain": [
       "1079605"
      ]
     },
     "execution_count": 76,
     "metadata": {},
     "output_type": "execute_result"
    }
   ],
   "source": [
    "np.sum(x[:,0,0] != -55)"
   ]
  },
  {
   "cell_type": "code",
   "execution_count": 77,
   "metadata": {},
   "outputs": [
    {
     "data": {
      "text/plain": [
       "[<matplotlib.lines.Line2D at 0x1b8d1d83c8>]"
      ]
     },
     "execution_count": 77,
     "metadata": {},
     "output_type": "execute_result"
    },
    {
     "data": {
      "image/png": "[encoded data removed]",
      "text/plain": [
       "<matplotlib.figure.Figure at 0x1b8d0dc588>"
      ]
     },
     "metadata": {},
     "output_type": "display_data"
    }
   ],
   "source": [
    "plt.plot(x[:,0,0])"
   ]
  },
  {
   "cell_type": "code",
   "execution_count": null,
   "metadata": {
    "collapsed": true
   },
   "outputs": [],
   "source": []
  },
  {
   "cell_type": "code",
   "execution_count": 78,
   "metadata": {},
   "outputs": [
    {
     "name": "stdout",
     "output_type": "stream",
     "text": [
      "Training class distribution is 0.107/0.817/0.076 \n"
     ]
    }
   ],
   "source": [
    "c = np.bincount(y.astype(np.uint8))\n",
    "s = np.sum(c)\n",
    "print(\"Training class distribution is {:.3f}/{:.3f}/{:.3f} \".format(c[0]/s,c[1]/s,c[2]/s))\n",
    "\n"
   ]
  },
  {
   "cell_type": "code",
   "execution_count": 84,
   "metadata": {
    "collapsed": true
   },
   "outputs": [],
   "source": [
    "batch_size = 16\n",
    "num_classes = 3\n",
    "epochs = 20"
   ]
  },
  {
   "cell_type": "code",
   "execution_count": 85,
   "metadata": {
    "collapsed": true
   },
   "outputs": [],
   "source": []
  },
  {
   "cell_type": "code",
   "execution_count": 96,
   "metadata": {
    "collapsed": true
   },
   "outputs": [],
   "source": [
    "model = Sequential()\n",
    "model.add(LSTM(sample_size, dropout=0.2, recurrent_dropout=0.2, input_shape=(sample_size,n_features)))\n",
    "model.add(Activation('relu'))\n",
    "model.add(Dense(num_classes))\n",
    "model.add(Activation('softmax'))\n",
    "\n",
    "# try using different optimizers and different optimizer configs\n",
    "model.compile(loss='binary_crossentropy',\n",
    "              optimizer='adam',\n",
    "              metrics=['accuracy'])\n",
    "\n",
    "\n",
    "\n"
   ]
  },
  {
   "cell_type": "code",
   "execution_count": 90,
   "metadata": {},
   "outputs": [
    {
     "name": "stdout",
     "output_type": "stream",
     "text": [
      "Train...\n"
     ]
    },
    {
     "ename": "ValueError",
     "evalue": "Error when checking target: expected activation_1 to have shape (3,) but got array with shape (1,)",
     "output_type": "error",
     "traceback": [
      "\u001b[0;31m---------------------------------------------------------------------------\u001b[0m",
      "\u001b[0;31mValueError\u001b[0m                                Traceback (most recent call last)",
      "\u001b[0;32m<ipython-input-90-940d8f97be1a>\u001b[0m in \u001b[0;36m<module>\u001b[0;34m()\u001b[0m\n\u001b[1;32m      1\u001b[0m \u001b[0mprint\u001b[0m\u001b[0;34m(\u001b[0m\u001b[0;34m'Train...'\u001b[0m\u001b[0;34m)\u001b[0m\u001b[0;34m\u001b[0m\u001b[0m\n\u001b[0;32m----> 2\u001b[0;31m \u001b[0mmodel\u001b[0m\u001b[0;34m.\u001b[0m\u001b[0mfit\u001b[0m\u001b[0;34m(\u001b[0m\u001b[0mx\u001b[0m\u001b[0;34m,\u001b[0m \u001b[0my\u001b[0m\u001b[0;34m,\u001b[0m \u001b[0mbatch_size\u001b[0m\u001b[0;34m=\u001b[0m\u001b[0mbatch_size\u001b[0m\u001b[0;34m,\u001b[0m\u001b[0mepochs\u001b[0m\u001b[0;34m=\u001b[0m\u001b[0;36m15\u001b[0m\u001b[0;34m)\u001b[0m\u001b[0;34m\u001b[0m\u001b[0m\n\u001b[0m",
      "\u001b[0;32m/anaconda3/lib/python3.6/site-packages/keras/models.py\u001b[0m in \u001b[0;36mfit\u001b[0;34m(self, x, y, batch_size, epochs, verbose, callbacks, validation_split, validation_data, shuffle, class_weight, sample_weight, initial_epoch, steps_per_epoch, validation_steps, **kwargs)\u001b[0m\n\u001b[1;32m    961\u001b[0m                               \u001b[0minitial_epoch\u001b[0m\u001b[0;34m=\u001b[0m\u001b[0minitial_epoch\u001b[0m\u001b[0;34m,\u001b[0m\u001b[0;34m\u001b[0m\u001b[0m\n\u001b[1;32m    962\u001b[0m                               \u001b[0msteps_per_epoch\u001b[0m\u001b[0;34m=\u001b[0m\u001b[0msteps_per_epoch\u001b[0m\u001b[0;34m,\u001b[0m\u001b[0;34m\u001b[0m\u001b[0m\n\u001b[0;32m--> 963\u001b[0;31m                               validation_steps=validation_steps)\n\u001b[0m\u001b[1;32m    964\u001b[0m \u001b[0;34m\u001b[0m\u001b[0m\n\u001b[1;32m    965\u001b[0m     def evaluate(self, x=None, y=None,\n",
      "\u001b[0;32m/anaconda3/lib/python3.6/site-packages/keras/engine/training.py\u001b[0m in \u001b[0;36mfit\u001b[0;34m(self, x, y, batch_size, epochs, verbose, callbacks, validation_split, validation_data, shuffle, class_weight, sample_weight, initial_epoch, steps_per_epoch, validation_steps, **kwargs)\u001b[0m\n\u001b[1;32m   1635\u001b[0m             \u001b[0msample_weight\u001b[0m\u001b[0;34m=\u001b[0m\u001b[0msample_weight\u001b[0m\u001b[0;34m,\u001b[0m\u001b[0;34m\u001b[0m\u001b[0m\n\u001b[1;32m   1636\u001b[0m             \u001b[0mclass_weight\u001b[0m\u001b[0;34m=\u001b[0m\u001b[0mclass_weight\u001b[0m\u001b[0;34m,\u001b[0m\u001b[0;34m\u001b[0m\u001b[0m\n\u001b[0;32m-> 1637\u001b[0;31m             batch_size=batch_size)\n\u001b[0m\u001b[1;32m   1638\u001b[0m         \u001b[0;31m# Prepare validation data.\u001b[0m\u001b[0;34m\u001b[0m\u001b[0;34m\u001b[0m\u001b[0m\n\u001b[1;32m   1639\u001b[0m         \u001b[0mdo_validation\u001b[0m \u001b[0;34m=\u001b[0m \u001b[0;32mFalse\u001b[0m\u001b[0;34m\u001b[0m\u001b[0m\n",
      "\u001b[0;32m/anaconda3/lib/python3.6/site-packages/keras/engine/training.py\u001b[0m in \u001b[0;36m_standardize_user_data\u001b[0;34m(self, x, y, sample_weight, class_weight, check_array_lengths, batch_size)\u001b[0m\n\u001b[1;32m   1485\u001b[0m                                     \u001b[0moutput_shapes\u001b[0m\u001b[0;34m,\u001b[0m\u001b[0;34m\u001b[0m\u001b[0m\n\u001b[1;32m   1486\u001b[0m                                     \u001b[0mcheck_batch_axis\u001b[0m\u001b[0;34m=\u001b[0m\u001b[0;32mFalse\u001b[0m\u001b[0;34m,\u001b[0m\u001b[0;34m\u001b[0m\u001b[0m\n\u001b[0;32m-> 1487\u001b[0;31m                                     exception_prefix='target')\n\u001b[0m\u001b[1;32m   1488\u001b[0m         sample_weights = _standardize_sample_weights(sample_weight,\n\u001b[1;32m   1489\u001b[0m                                                      self._feed_output_names)\n",
      "\u001b[0;32m/anaconda3/lib/python3.6/site-packages/keras/engine/training.py\u001b[0m in \u001b[0;36m_standardize_input_data\u001b[0;34m(data, names, shapes, check_batch_axis, exception_prefix)\u001b[0m\n\u001b[1;32m    121\u001b[0m                             \u001b[0;34m': expected '\u001b[0m \u001b[0;34m+\u001b[0m \u001b[0mnames\u001b[0m\u001b[0;34m[\u001b[0m\u001b[0mi\u001b[0m\u001b[0;34m]\u001b[0m \u001b[0;34m+\u001b[0m \u001b[0;34m' to have shape '\u001b[0m \u001b[0;34m+\u001b[0m\u001b[0;34m\u001b[0m\u001b[0m\n\u001b[1;32m    122\u001b[0m                             \u001b[0mstr\u001b[0m\u001b[0;34m(\u001b[0m\u001b[0mshape\u001b[0m\u001b[0;34m)\u001b[0m \u001b[0;34m+\u001b[0m \u001b[0;34m' but got array with shape '\u001b[0m \u001b[0;34m+\u001b[0m\u001b[0;34m\u001b[0m\u001b[0m\n\u001b[0;32m--> 123\u001b[0;31m                             str(data_shape))\n\u001b[0m\u001b[1;32m    124\u001b[0m     \u001b[0;32mreturn\u001b[0m \u001b[0mdata\u001b[0m\u001b[0;34m\u001b[0m\u001b[0m\n\u001b[1;32m    125\u001b[0m \u001b[0;34m\u001b[0m\u001b[0m\n",
      "\u001b[0;31mValueError\u001b[0m: Error when checking target: expected activation_1 to have shape (3,) but got array with shape (1,)"
     ]
    }
   ],
   "source": [
    "print('Train...')\n",
    "model.fit(x, y, batch_size=batch_size,epochs=15)\n",
    "\n"
   ]
  },
  {
   "cell_type": "code",
   "execution_count": null,
   "metadata": {
    "collapsed": true
   },
   "outputs": [],
   "source": []
  }
 ],
 "metadata": {
  "kernelspec": {
   "display_name": "Python 3",
   "language": "python",
   "name": "python3"
  },
  "language_info": {
   "codemirror_mode": {
    "name": "ipython",
    "version": 3
   },
   "file_extension": ".py",
   "mimetype": "text/x-python",
   "name": "python",
   "nbconvert_exporter": "python",
   "pygments_lexer": "ipython3",
   "version": "3.6.4"
  }
 },
 "nbformat": 4,
 "nbformat_minor": 2
}
