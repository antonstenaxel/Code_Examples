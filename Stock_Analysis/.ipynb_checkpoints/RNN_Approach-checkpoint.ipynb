{
 "cells": [
  {
   "cell_type": "markdown",
   "metadata": {},
   "source": [
    "# Train a NN to predict stock "
   ]
  },
  {
   "cell_type": "code",
   "execution_count": 5,
   "metadata": {
    "collapsed": true
   },
   "outputs": [],
   "source": [
    "import os\n",
    "import numpy as np\n",
    "import matplotlib.pyplot as plt\n",
    "%matplotlib inline"
   ]
  },
  {
   "cell_type": "code",
   "execution_count": 6,
   "metadata": {
    "collapsed": true
   },
   "outputs": [],
   "source": [
    "def load_data(file_path):\n",
    "    all_data = np.load(file_path)\n",
    "    num_to_symbol = np.load(file_path.replace(\".npy\",\"_DIC.npy\"))\n",
    "    \n",
    "    return all_data, num_to_symbol.tolist()"
   ]
  },
  {
   "cell_type": "code",
   "execution_count": 7,
   "metadata": {
    "collapsed": true
   },
   "outputs": [],
   "source": [
    "def moving_average(a, n=3) :\n",
    "    ret = np.cumsum(a, dtype=float)\n",
    "    ret[n:] = ret[n:] - ret[:-n]\n",
    "    return ret / n#ret[n - 1:] / n"
   ]
  },
  {
   "cell_type": "code",
   "execution_count": 8,
   "metadata": {},
   "outputs": [],
   "source": [
    "file_path = \"processed_data/aligned_dates/all_data_with_aligned_dates.npy\"\n",
    "all_data, sym_to_num = load_data(file_path)"
   ]
  },
  {
   "cell_type": "code",
   "execution_count": 9,
   "metadata": {},
   "outputs": [
    {
     "data": {
      "text/plain": [
       "(4720, 377, 8)"
      ]
     },
     "execution_count": 9,
     "metadata": {},
     "output_type": "execute_result"
    }
   ],
   "source": [
    "np.shape(all_data)"
   ]
  },
  {
   "cell_type": "markdown",
   "metadata": {},
   "source": [
    "First we have to create datapoints from the data. In this case we will have 20 entries as input and try to predict the next three. We will not use volume data, divident amount or split oefficient. "
   ]
  },
  {
   "cell_type": "code",
   "execution_count": 12,
   "metadata": {},
   "outputs": [],
   "source": [
    "feat_to_num = {'1. open': 0,\n",
    "  '2. high': 1,\n",
    "  '3. low': 2,\n",
    "  '4. close': 3,\n",
    "  '5. adjusted close': 4,\n",
    "  '6. volume': 5,\n",
    "  '7. dividend amount': 6,\n",
    "  '8. split coefficient': 7}"
   ]
  },
  {
   "cell_type": "code",
   "execution_count": 13,
   "metadata": {},
   "outputs": [
    {
     "name": "stdout",
     "output_type": "stream",
     "text": [
      "Step 0 of 377\n",
      "Step 50 of 377\n",
      "Step 100 of 377\n",
      "Step 150 of 377\n",
      "Step 200 of 377\n",
      "Step 250 of 377\n",
      "Step 300 of 377\n",
      "Step 350 of 377\n",
      "Complete, a total of 1769638 datapoints were added\n"
     ]
    }
   ],
   "source": [
    "n_entries, n_symbols, _ = np.shape(all_data)\n",
    "\n",
    "sample_size = 20\n",
    "prediction_size = 5\n",
    "\n",
    "n_features = 5\n",
    "\n",
    "# -55 to yield a number easily indentified as non-sense for troubleshooting\n",
    "time_series_data = -55*np.ones([n_entries*n_symbols,sample_size,n_features])\n",
    "time_series_labels = -55*np.ones([n_entries*n_symbols,prediction_size,n_features])\n",
    "\n",
    "\n",
    "k = 0\n",
    "for symbol in range(n_symbols):\n",
    "    \n",
    "    if(symbol % 50 == 0):\n",
    "        print(\"Step {} of {}\".format(symbol,n_symbols))\n",
    "    \n",
    "   \n",
    "    \n",
    "    # Find the introduction of the stock\n",
    "    last_entry = n_entries - 1\n",
    "    while(all_data[last_entry,symbol,0] == 0):\n",
    "        last_entry -=1\n",
    "    \n",
    "    symbol_data = all_data[:last_entry,symbol,:5] #Discard dividends amount and split coefficient\n",
    "    \n",
    "    for feature in range(n_features):\n",
    "    \n",
    "        symbol_data[:,feature] /= symbol_data[0,feature]\n",
    "        symbol_data[:,feature] = moving_average(symbol_data[:,feature])\n",
    "        \n",
    "        \n",
    "        #symbol_data[:,feature] -= np.mean(symbol_data[:,feature])\n",
    "        #symbol_data[:,feature] /= np.std(symbol_data[:,feature])\n",
    "        \n",
    "        \n",
    "    for entry in range(last_entry-sample_size-prediction_size):\n",
    "        \n",
    "        datapoint = symbol_data[entry:entry+sample_size+prediction_size,:]\n",
    "\n",
    "        time_series_data[k,:,:] = datapoint[:sample_size]\n",
    "        time_series_labels[k,:,:] = datapoint[sample_size:]\n",
    "        \n",
    "        k+=1\n",
    "    \n",
    "    \n",
    "print(\"Complete, a total of {} datapoints were added\".format(k))\n",
    "\n",
    "x = time_series_data[:k,:,:]\n",
    "y = time_series_labels[:k]"
   ]
  },
  {
   "cell_type": "code",
   "execution_count": 14,
   "metadata": {},
   "outputs": [
    {
     "data": {
      "text/plain": [
       "(1769638, 20, 5)"
      ]
     },
     "execution_count": 14,
     "metadata": {},
     "output_type": "execute_result"
    }
   ],
   "source": [
    "np.shape(x)"
   ]
  },
  {
   "cell_type": "code",
   "execution_count": 15,
   "metadata": {
    "scrolled": true
   },
   "outputs": [
    {
     "data": {
      "text/plain": [
       "(1769638, 5, 5)"
      ]
     },
     "execution_count": 15,
     "metadata": {},
     "output_type": "execute_result"
    }
   ],
   "source": [
    "np.shape(y)"
   ]
  },
  {
   "cell_type": "code",
   "execution_count": 16,
   "metadata": {},
   "outputs": [
    {
     "data": {
      "text/plain": [
       "[<matplotlib.lines.Line2D at 0x115ad3ef0>]"
      ]
     },
     "execution_count": 16,
     "metadata": {},
     "output_type": "execute_result"
    },
    {
     "data": {
      "image/png": "[encoded data removed]",
      "text/plain": [
       "<matplotlib.figure.Figure at 0x11287c0f0>"
      ]
     },
     "metadata": {},
     "output_type": "display_data"
    }
   ],
   "source": [
    "dp = 100\n",
    "plt.plot(np.arange(20),x[dp,:,0],'ro')\n",
    "plt.plot(np.arange(20),x[dp,:,1],'rx')\n",
    "plt.plot(np.arange(20),x[dp,:,2],'r+')\n",
    "plt.plot(np.arange(20),x[dp,:,3],'r.')\n",
    "plt.plot(np.arange(20,25),y[dp,:,0],'bo')\n",
    "plt.plot(np.arange(20,25),y[dp,:,1],'bx')\n",
    "plt.plot(np.arange(20,25),y[dp,:,2],'b+')\n",
    "plt.plot(np.arange(20,25),y[dp,:,3],'b.')"
   ]
  },
  {
   "cell_type": "markdown",
   "metadata": {},
   "source": [
    "The red markers correspond to different features of the training "
   ]
  },
  {
   "cell_type": "markdown",
   "metadata": {},
   "source": [
    "Now data is structured in datapoints of 20 entries in the x-variable and five entries following that value in the y-variable. What is left is to set up a LSTM machine to accept the input at try to predict the output. "
   ]
  },
  {
   "cell_type": "code",
   "execution_count": null,
   "metadata": {
    "collapsed": true
   },
   "outputs": [],
   "source": []
  }
 ],
 "metadata": {
  "kernelspec": {
   "display_name": "Python 3",
   "language": "python",
   "name": "python3"
  },
  "language_info": {
   "codemirror_mode": {
    "name": "ipython",
    "version": 3
   },
   "file_extension": ".py",
   "mimetype": "text/x-python",
   "name": "python",
   "nbconvert_exporter": "python",
   "pygments_lexer": "ipython3",
   "version": "3.6.4"
  }
 },
 "nbformat": 4,
 "nbformat_minor": 2
}
